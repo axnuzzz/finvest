{
  "cells": [
    {
      "cell_type": "markdown",
      "metadata": {
        "id": "40q6lI6Vsl-0"
      },
      "source": [
        "# llama3-hackathon"
      ]
    },
    {
      "cell_type": "code",
      "execution_count": null,
      "metadata": {
        "id": "r5vmVh-rqpvW"
      },
      "outputs": [],
      "source": []
    },
    {
      "cell_type": "code",
      "execution_count": null,
      "metadata": {
        "colab": {
          "base_uri": "https://localhost:8080/",
          "height": 1000
        },
        "collapsed": true,
        "id": "W1JXqJKXaq00",
        "outputId": "be9abfb8-535a-4aec-c505-981cbed56515"
      },
      "outputs": [],
      "source": [
        "! pip install llama-index\n",
        "! pip install pydantic\n",
        "! pip install groq\n",
        "! pip install llama-index-llms-groq\n",
        "! pip install substrate\n",
        "! pip install yfinance\n",
        "! pip install pandas\n",
        "! pip install streamlit\n",
        "! pip install llama-index-llms-together\n",
        "!pip install python-dotenv"
      ]
    },
    {
      "cell_type": "code",
      "execution_count": 50,
      "metadata": {
        "id": "BRwTIyEncygQ"
      },
      "outputs": [],
      "source": [
        "from llama_index.core.tools import FunctionTool\n",
        "from llama_index.core.agent import ReActAgent\n",
        "from llama_index.llms.groq import Groq\n",
        "from google.colab import userdata\n",
        "\n",
        "from llama_index.core.llms import ChatMessage, MessageRole\n",
        "\n",
        "import yfinance as yf\n",
        "from typing import Annotated, Callable, Any, Optional\n",
        "from pandas import DataFrame\n",
        "from functools import wraps"
      ]
    },
    {
      "cell_type": "code",
      "execution_count": 51,
      "metadata": {
        "id": "5l1NdaEHdgEM"
      },
      "outputs": [],
      "source": [
        "# Utility function for saving output\n",
        "def save_output(\n",
        "    data: DataFrame, description: str, save_path: Optional[str] = None\n",
        ") -> None:\n",
        "    if save_path:\n",
        "        data.to_csv(save_path)\n",
        "        print(f\"{description} saved to {save_path}\")\n",
        "\n",
        "\n",
        "def get_stock_data(\n",
        "    symbol: str, start_date: str, end_date: str, save_path: Optional[str] = None\n",
        ") -> str:\n",
        "    ticker = yf.Ticker(symbol)\n",
        "    stock_data = ticker.history(start=start_date, end=end_date)\n",
        "    save_output(stock_data, f\"Stock data for {ticker.ticker}\", save_path)\n",
        "    return stock_data.to_string()\n",
        "\n",
        "\n",
        "def get_stock_info(symbol: str) -> str:\n",
        "    ticker = yf.Ticker(symbol)\n",
        "    info = ticker.info\n",
        "    return str(info)\n",
        "\n",
        "\n",
        "def get_company_info(symbol: str, save_path: Optional[str] = None) -> str:\n",
        "    ticker = yf.Ticker(symbol)\n",
        "    info = ticker.info\n",
        "    company_info = {\n",
        "        \"Company Name\": info.get(\"shortName\", \"N/A\"),\n",
        "        \"Industry\": info.get(\"industry\", \"N/A\"),\n",
        "        \"Sector\": info.get(\"sector\", \"N/A\"),\n",
        "        \"Country\": info.get(\"country\", \"N/A\"),\n",
        "        \"Website\": info.get(\"website\", \"N/A\"),\n",
        "    }\n",
        "    company_info_df = DataFrame([company_info])\n",
        "    if save_path:\n",
        "        company_info_df.to_csv(save_path)\n",
        "        print(f\"Company info for {ticker.ticker} saved to {save_path}\")\n",
        "    return company_info_df.to_string()\n",
        "\n",
        "\n",
        "def get_stock_dividends(symbol: str, save_path: Optional[str] = None) -> str:\n",
        "    ticker = yf.Ticker(symbol)\n",
        "    dividends = ticker.dividends\n",
        "    if save_path:\n",
        "        dividends.to_csv(save_path)\n",
        "        print(f\"Dividends for {ticker.ticker} saved to {save_path}\")\n",
        "    return dividends.to_string()\n",
        "\n",
        "\n",
        "def get_income_stmt(symbol: str) -> str:\n",
        "    ticker = yf.Ticker(symbol)\n",
        "    income_stmt = ticker.financials\n",
        "    return income_stmt.to_string()\n",
        "\n",
        "\n",
        "def get_balance_sheet(symbol: str) -> str:\n",
        "    ticker = yf.Ticker(symbol)\n",
        "    balance_sheet = ticker.balance_sheet\n",
        "    return balance_sheet.to_string()\n",
        "\n",
        "\n",
        "def get_cash_flow(symbol: str) -> str:\n",
        "    ticker = yf.Ticker(symbol)\n",
        "    cash_flow = ticker.cashflow\n",
        "    return cash_flow.to_string()\n",
        "\n",
        "\n",
        "def get_analyst_recommendations(symbol: str) -> str:\n",
        "    ticker = yf.Ticker(symbol)\n",
        "    recommendations = ticker.recommendations\n",
        "    if recommendations.empty:\n",
        "        return \"No recommendations available\"\n",
        "\n",
        "    recommendation_counts = recommendations[\n",
        "        [\"strongBuy\", \"buy\", \"hold\", \"sell\", \"strongSell\"]\n",
        "    ].sum()\n",
        "    most_common_recommendation = recommendation_counts.idxmax()\n",
        "    count = recommendation_counts.max()\n",
        "\n",
        "    return f\"Most common recommendation: {most_common_recommendation} ({count} votes)\""
      ]
    },
    {
      "cell_type": "code",
      "execution_count": null,
      "metadata": {},
      "outputs": [],
      "source": [
        "import os\n",
        "from dotenv import load_dotenv\n",
        "\n",
        "# Load environment variables from the .env file\n",
        "load_dotenv()\n",
        "\n",
        "# Access the environment variables\n",
        "TOGETHER_API_KEY = os.getenv(\"TOGETHER_API_KEY\")\n",
        "GROQ_API_KEY = os.getenv(\"GROQ_API_KEY\")\n",
        "SUBSTRATE_API_KEY = os.getenv(\"SUBSTRATE_API_KEY\")"
      ]
    },
    {
      "cell_type": "code",
      "execution_count": 52,
      "metadata": {
        "id": "yS6iFfZKbSvf"
      },
      "outputs": [],
      "source": [
        "# Set up the Groq class with the required model and API key\n",
        "llm = Groq(model=\"llama3-8b-8192\", api_key=GROQ_API_KEY)\n",
        "\n",
        "llm3 = TogetherLLM(\n",
        "    model=\"meta-llama/Meta-Llama-3-8B-Instruct-Lite\",\n",
        "    api_key=TOGETHER_API_KEY,\n",
        ")"
      ]
    },
    {
      "cell_type": "code",
      "execution_count": null,
      "metadata": {
        "colab": {
          "base_uri": "https://localhost:8080/"
        },
        "id": "76lHiFlit2pZ",
        "outputId": "c79d2626-1d5f-428b-fcd2-acaec9db534b"
      },
      "outputs": [],
      "source": [
        "api_key = SUBSTRATE_API_KEY\n",
        "if api_key is None:\n",
        "    raise EnvironmentError(\"No SUBSTRATE_API_KEY set\")\n",
        "\n",
        "from substrate import Substrate, ComputeText, sb\n",
        "\n",
        "substrate = Substrate(api_key=api_key, timeout=60 * 5)\n",
        "\n",
        "story = ComputeText(prompt=\"tell me a story\", model=\"Llama3Instruct8B\")\n",
        "summary = ComputeText(\n",
        "    prompt=sb.concat(\"Summarize this story: \", story.future.text),\n",
        "    model=\"Llama3Instruct8B\",\n",
        ")\n",
        "response = substrate.run(story)\n",
        "\n",
        "story_out = response.get(story)\n",
        "print(story_out.text)"
      ]
    },
    {
      "cell_type": "code",
      "execution_count": 53,
      "metadata": {
        "id": "z3h_v4YGt2mk"
      },
      "outputs": [],
      "source": []
    },
    {
      "cell_type": "code",
      "execution_count": 54,
      "metadata": {
        "id": "n6bf18NEkMBf"
      },
      "outputs": [],
      "source": [
        "# Define tools for each function\n",
        "get_stock_data_tool = FunctionTool.from_defaults(fn=get_stock_data)\n",
        "get_stock_info_tool = FunctionTool.from_defaults(fn=get_stock_info)\n",
        "get_company_info_tool = FunctionTool.from_defaults(fn=get_company_info)\n",
        "get_stock_dividends_tool = FunctionTool.from_defaults(fn=get_stock_dividends)\n",
        "get_income_stmt_tool = FunctionTool.from_defaults(fn=get_income_stmt)\n",
        "get_balance_sheet_tool = FunctionTool.from_defaults(fn=get_balance_sheet)\n",
        "get_cash_flow_tool = FunctionTool.from_defaults(fn=get_cash_flow)\n",
        "get_analyst_recommendations_tool = FunctionTool.from_defaults(\n",
        "    fn=get_analyst_recommendations\n",
        ")\n",
        "\n",
        "\n",
        "GPT_FINANCIAL_ANALYST_SYS_STR = \"\"\"\\\n",
        "You are a Financial Analyst, specializing in providing comprehensive financial analysis and advice. Your role is to assist users with various financial tasks and queries, including but not limited to:\n",
        "\n",
        "1) **Financial Analysis**:\n",
        "   - Perform financial statement analysis (balance sheet, income statement, cash flow statement).\n",
        "   - Conduct ratio analysis (liquidity, profitability, solvency, and efficiency ratios).\n",
        "   - Evaluate financial performance and trends over time.\n",
        "   - Analyze financial metrics to assess company health and performance.\n",
        "\n",
        "2) **Investment Analysis**:\n",
        "   - Provide insights on stock, bond, and other investment opportunities.\n",
        "   - Perform risk assessment and return analysis for potential investments.\n",
        "   - Utilize financial models (DCF, CAPM, etc.) to value assets.\n",
        "   - Offer portfolio management advice and strategies.\n",
        "\n",
        "3) **Budgeting and Forecasting**:\n",
        "   - Assist in creating and managing budgets.\n",
        "   - Provide financial forecasting based on historical data and market trends.\n",
        "   - Analyze variances between budgeted and actual figures.\n",
        "\n",
        "4) **Market Analysis**:\n",
        "   - Conduct market research to identify economic trends and market conditions.\n",
        "   - Analyze the impact of macroeconomic factors on financial performance.\n",
        "   - Provide competitive analysis and industry benchmarking.\n",
        "\n",
        "5) **Financial Planning and Advisory**:\n",
        "   - Offer personal financial planning advice, including retirement planning, tax strategies, and estate planning.\n",
        "   - Advise on debt management and financial risk mitigation.\n",
        "   - Help with financial goal setting and achievement strategies.\n",
        "\n",
        "**Guidelines**:\n",
        "- Stick strictly to the financial analyst role; do not deviate into unrelated areas.\n",
        "- Use appropriate financial terminology and concepts.\n",
        "- Provide detailed and accurate analyses and explanations.\n",
        "- Ensure all advice is based on sound financial principles and current market conditions.\n",
        "- Prioritize clarity, conciseness, and comprehensiveness in all responses.\n",
        "\"\"\"\n",
        "\n",
        "\n",
        "prefix_msgs = [\n",
        "    ChatMessage(role=MessageRole.SYSTEM, content=GPT_FINANCIAL_ANALYST_SYS_STR)\n",
        "]\n",
        "\n",
        "\n",
        "aa = ReActAgent.from_tools(\n",
        "    [\n",
        "        get_stock_data_tool,\n",
        "        get_stock_info_tool,\n",
        "        get_company_info_tool,\n",
        "        get_stock_dividends_tool,\n",
        "        get_income_stmt_tool,\n",
        "        get_balance_sheet_tool,\n",
        "        get_cash_flow_tool,\n",
        "        get_analyst_recommendations_tool,\n",
        "    ],\n",
        "    llm=llm,\n",
        "    prefix_messages=prefix_msgs,\n",
        "    token_counting=True,\n",
        "    verbose=False,\n",
        "    max_iterations=3,\n",
        ")"
      ]
    },
    {
      "cell_type": "code",
      "execution_count": null,
      "metadata": {
        "id": "l0eF6Qx1cpEL"
      },
      "outputs": [],
      "source": [
        "# @markdown ---\n",
        "# @markdown ### Enter a Financial Query:\n",
        "query = \"\"  # @param {type:\"string\"}\n",
        "response = aa.chat(query)\n",
        "print(response)"
      ]
    },
    {
      "cell_type": "code",
      "execution_count": null,
      "metadata": {
        "id": "eLJfXP2TgiKg"
      },
      "outputs": [],
      "source": []
    },
    {
      "cell_type": "code",
      "execution_count": 3,
      "metadata": {
        "id": "AYs006Of_PCw"
      },
      "outputs": [
        {
          "name": "stderr",
          "output_type": "stream",
          "text": [
            "2024-07-20 21:48:34.870 \n",
            "  \u001b[33m\u001b[1mWarning:\u001b[0m to view this Streamlit app on a browser, run it with the following\n",
            "  command:\n",
            "\n",
            "    streamlit run /usr/lib/python3/dist-packages/ipykernel_launcher.py [ARGUMENTS]\n",
            "2024-07-20 21:48:34.876 Session state does not function when running a script without `streamlit run`\n"
          ]
        }
      ],
      "source": [
        "import streamlit as st\n",
        "\n",
        "# Streamlit UI\n",
        "st.title(\"Financial Analyst\")\n",
        "\n",
        "# Initialize session state\n",
        "if \"messages\" not in st.session_state:\n",
        "    st.session_state.messages = []\n",
        "\n",
        "# Display conversation history\n",
        "for message in st.session_state.messages:\n",
        "    st.write(f\"{message['role']}: {message['content']}\")\n",
        "\n",
        "# User input\n",
        "user_input = st.text_input(\"You: \", \"\")\n",
        "\n",
        "if user_input:\n",
        "    st.session_state.messages.append({\"role\": \"User\", \"content\": user_input})\n",
        "\n",
        "    # Get response from the agent\n",
        "    response = aa.chat(user_input)\n",
        "    st.session_state.messages.append({\"role\": \"Agent\", \"content\": response})\n",
        "\n",
        "    # Clear user input\n",
        "    st.experimental_rerun()"
      ]
    },
    {
      "cell_type": "code",
      "execution_count": null,
      "metadata": {},
      "outputs": [],
      "source": []
    }
  ],
  "metadata": {
    "colab": {
      "provenance": []
    },
    "kernelspec": {
      "display_name": "Python 3",
      "name": "python3"
    },
    "language_info": {
      "name": "python"
    }
  },
  "nbformat": 4,
  "nbformat_minor": 0
}
